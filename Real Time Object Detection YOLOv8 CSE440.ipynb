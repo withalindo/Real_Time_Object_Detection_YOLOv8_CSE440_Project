{
 "cells": [
  {
   "cell_type": "code",
   "execution_count": null,
   "id": "d25829df",
   "metadata": {
    "vscode": {
     "languageId": "plaintext"
    }
   },
   "outputs": [],
   "source": [
    "!pip install ultralytics opencv-python-headless\n"
   ]
  },
  {
   "cell_type": "code",
   "execution_count": null,
   "id": "4f641b1e",
   "metadata": {
    "vscode": {
     "languageId": "plaintext"
    }
   },
   "outputs": [],
   "source": [
    "import cv2\n",
    "from ultralytics import YOLO\n",
    "from google.colab.patches import cv2_imshow\n",
    "from google.colab import files\n",
    "import os\n",
    "import time\n",
    "import numpy as np\n",
    "\n",
    "\n",
    "uploaded = files.upload()\n",
    "video_path = list(uploaded.keys())[0]\n",
    "\n",
    "\n",
    "model = YOLO('yolov8s.pt')\n",
    "\n",
    "\n",
    "cap = cv2.VideoCapture(video_path)\n",
    "width  = int(cap.get(cv2.CAP_PROP_FRAME_WIDTH))\n",
    "height = int(cap.get(cv2.CAP_PROP_FRAME_HEIGHT))\n",
    "fps    = cap.get(cv2.CAP_PROP_FPS)\n",
    "\n",
    "\n",
    "fourcc = cv2.VideoWriter_fourcc(*'mp4v')\n",
    "out    = cv2.VideoWriter('output.mp4', fourcc, fps, (width, height))\n",
    "\n",
    "frame_count = 0\n",
    "\n",
    "while cap.isOpened():\n",
    "    ret, frame = cap.read()\n",
    "    if not ret:\n",
    "        break\n",
    "\n",
    "\n",
    "    start_time = time.time()\n",
    "    results     = model(frame, verbose=False)[0]\n",
    "    annotated   = results.plot()\n",
    "    total_time  = (time.time() - start_time) * 1000  # ms\n",
    "    est_fps     = 1000 / total_time if total_time > 0 else 0\n",
    "\n",
    "\n",
    "    labels            = results.names\n",
    "    detected_classes  = [labels[int(c)] for c in results.boxes.cls]\n",
    "    counts            = {cls: detected_classes.count(cls) for cls in set(detected_classes)}\n",
    "    detection_lines   = '\\n'.join([f\"  - {cnt} {cls}(s)\" for cls, cnt in counts.items()])\n",
    "\n",
    "\n",
    "    confs    = results.boxes.conf.cpu().numpy()\n",
    "    avg_conf = np.mean(confs) if len(confs) else 0.0\n",
    "\n",
    "\n",
    "    print(f\"Frame {frame_count}:\")\n",
    "    print(f\"Resolution: {width}x{height}\")\n",
    "    print(\"Detected Objects:\")\n",
    "    print(detection_lines if detection_lines else \"  - None\")\n",
    "    print(f\"Average Confidence: {avg_conf:.2f}\")\n",
    "    print(f\"Processing Time: {total_time:.1f}ms\")\n",
    "    print(f\"Estimated FPS: ~{est_fps:.1f} FPS\")\n",
    "    print(\"=\" * 40)\n",
    "\n",
    "\n",
    "    out.write(annotated)\n",
    "\n",
    "\n",
    "    if frame_count < 10:\n",
    "        cv2_imshow(annotated)\n",
    "\n",
    "    frame_count += 1\n",
    "\n",
    "\n",
    "cap.release()\n",
    "out.release()\n",
    "cv2.destroyAllWindows()\n",
    "\n",
    "print(\"✅ Done! Annotated video saved as 'output.mp4'\")\n"
   ]
  },
  {
   "cell_type": "code",
   "execution_count": null,
   "id": "c37f4d22",
   "metadata": {
    "vscode": {
     "languageId": "plaintext"
    }
   },
   "outputs": [],
   "source": []
  }
 ],
 "metadata": {
  "language_info": {
   "name": "python"
  }
 },
 "nbformat": 4,
 "nbformat_minor": 5
}
